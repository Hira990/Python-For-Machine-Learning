{
  "nbformat": 4,
  "nbformat_minor": 0,
  "metadata": {
    "colab": {
      "name": "Numpy_Intro.ipynb",
      "provenance": []
    },
    "kernelspec": {
      "name": "python3",
      "display_name": "Python 3"
    },
    "language_info": {
      "name": "python"
    }
  },
  "cells": [
    {
      "cell_type": "markdown",
      "metadata": {
        "id": "LwEU4U3-Od10"
      },
      "source": [
        "# Create NumPy Array"
      ]
    },
    {
      "cell_type": "code",
      "metadata": {
        "id": "2P2u1ZEmt2SZ",
        "colab": {
          "base_uri": "https://localhost:8080/"
        },
        "outputId": "6bb4bbb3-2533-45be-c9ec-8792183e97cf"
      },
      "source": [
        "import numpy as np\n",
        "\n",
        "myList = [4, 6, 9, 10]\n",
        "myArr1 = np.array(myList)\n",
        "myArr1"
      ],
      "execution_count": 1,
      "outputs": [
        {
          "output_type": "execute_result",
          "data": {
            "text/plain": [
              "array([ 4,  6,  9, 10])"
            ]
          },
          "metadata": {},
          "execution_count": 1
        }
      ]
    },
    {
      "cell_type": "code",
      "metadata": {
        "id": "d5i75VF5dQvs",
        "colab": {
          "base_uri": "https://localhost:8080/"
        },
        "outputId": "5a9f8862-c5fa-464b-abf7-151ed6c12645"
      },
      "source": [
        "myMatrix = [[1, 2, 3, 4], [5, 6, 7, 8]]\n",
        "myArr2 = np.array(myMatrix)\n",
        "myArr2"
      ],
      "execution_count": 2,
      "outputs": [
        {
          "output_type": "execute_result",
          "data": {
            "text/plain": [
              "array([[1, 2, 3, 4],\n",
              "       [5, 6, 7, 8]])"
            ]
          },
          "metadata": {},
          "execution_count": 2
        }
      ]
    },
    {
      "cell_type": "code",
      "metadata": {
        "id": "cyyvM6491jUc",
        "colab": {
          "base_uri": "https://localhost:8080/"
        },
        "outputId": "0727b2b3-9a95-47bc-a194-9b22af848567"
      },
      "source": [
        "myArr3 = np.arange(0, 20)\n",
        "myArr3"
      ],
      "execution_count": 3,
      "outputs": [
        {
          "output_type": "execute_result",
          "data": {
            "text/plain": [
              "array([ 0,  1,  2,  3,  4,  5,  6,  7,  8,  9, 10, 11, 12, 13, 14, 15, 16,\n",
              "       17, 18, 19])"
            ]
          },
          "metadata": {},
          "execution_count": 3
        }
      ]
    },
    {
      "cell_type": "code",
      "metadata": {
        "colab": {
          "base_uri": "https://localhost:8080/"
        },
        "id": "_6l3RAYjO4N3",
        "outputId": "e2dc506f-eba3-40d7-96bf-f8d62058d2ca"
      },
      "source": [
        "myArr4 = np.arange(0, 20, 2)\n",
        "myArr4"
      ],
      "execution_count": 4,
      "outputs": [
        {
          "output_type": "execute_result",
          "data": {
            "text/plain": [
              "array([ 0,  2,  4,  6,  8, 10, 12, 14, 16, 18])"
            ]
          },
          "metadata": {},
          "execution_count": 4
        }
      ]
    },
    {
      "cell_type": "code",
      "metadata": {
        "colab": {
          "base_uri": "https://localhost:8080/"
        },
        "id": "_dVjB3kMPXBC",
        "outputId": "06fb84c1-a7b0-4836-cc85-3cd88c536cfe"
      },
      "source": [
        "myArr5 = np.linspace(0, 10, 6)\n",
        "myArr5"
      ],
      "execution_count": 5,
      "outputs": [
        {
          "output_type": "execute_result",
          "data": {
            "text/plain": [
              "array([ 0.,  2.,  4.,  6.,  8., 10.])"
            ]
          },
          "metadata": {},
          "execution_count": 5
        }
      ]
    },
    {
      "cell_type": "code",
      "metadata": {
        "colab": {
          "base_uri": "https://localhost:8080/"
        },
        "id": "aYhw0ndzPWtc",
        "outputId": "38c2336a-48dd-4216-e3f8-27910a8a60c8"
      },
      "source": [
        "np.zeros(3)"
      ],
      "execution_count": 6,
      "outputs": [
        {
          "output_type": "execute_result",
          "data": {
            "text/plain": [
              "array([0., 0., 0.])"
            ]
          },
          "metadata": {},
          "execution_count": 6
        }
      ]
    },
    {
      "cell_type": "code",
      "metadata": {
        "colab": {
          "base_uri": "https://localhost:8080/"
        },
        "id": "vXwBC06KPBb6",
        "outputId": "4b909708-3c8b-446e-c2e2-c8b0ea74c89f"
      },
      "source": [
        "np.zeros((3,4))"
      ],
      "execution_count": 7,
      "outputs": [
        {
          "output_type": "execute_result",
          "data": {
            "text/plain": [
              "array([[0., 0., 0., 0.],\n",
              "       [0., 0., 0., 0.],\n",
              "       [0., 0., 0., 0.]])"
            ]
          },
          "metadata": {},
          "execution_count": 7
        }
      ]
    },
    {
      "cell_type": "code",
      "metadata": {
        "colab": {
          "base_uri": "https://localhost:8080/"
        },
        "id": "Z1zjkdPePeMU",
        "outputId": "c98d1418-a46f-4738-dd7a-4222e587e2d6"
      },
      "source": [
        "np.ones(4)"
      ],
      "execution_count": 8,
      "outputs": [
        {
          "output_type": "execute_result",
          "data": {
            "text/plain": [
              "array([1., 1., 1., 1.])"
            ]
          },
          "metadata": {},
          "execution_count": 8
        }
      ]
    },
    {
      "cell_type": "code",
      "metadata": {
        "colab": {
          "base_uri": "https://localhost:8080/"
        },
        "id": "dbgZ92gdPo3_",
        "outputId": "b03d00b5-6bcd-4e34-92e3-5b3a720f7cfa"
      },
      "source": [
        "np.ones((4, 5))"
      ],
      "execution_count": 9,
      "outputs": [
        {
          "output_type": "execute_result",
          "data": {
            "text/plain": [
              "array([[1., 1., 1., 1., 1.],\n",
              "       [1., 1., 1., 1., 1.],\n",
              "       [1., 1., 1., 1., 1.],\n",
              "       [1., 1., 1., 1., 1.]])"
            ]
          },
          "metadata": {},
          "execution_count": 9
        }
      ]
    },
    {
      "cell_type": "code",
      "metadata": {
        "colab": {
          "base_uri": "https://localhost:8080/"
        },
        "id": "awqDxC-1Pss9",
        "outputId": "4d30834e-760b-4ca7-c345-053b1950965b"
      },
      "source": [
        "np.eye(3)"
      ],
      "execution_count": 10,
      "outputs": [
        {
          "output_type": "execute_result",
          "data": {
            "text/plain": [
              "array([[1., 0., 0.],\n",
              "       [0., 1., 0.],\n",
              "       [0., 0., 1.]])"
            ]
          },
          "metadata": {},
          "execution_count": 10
        }
      ]
    },
    {
      "cell_type": "markdown",
      "metadata": {
        "id": "4rJEkfIjVIQP"
      },
      "source": [
        "# Generating Random Data"
      ]
    },
    {
      "cell_type": "code",
      "metadata": {
        "colab": {
          "base_uri": "https://localhost:8080/"
        },
        "id": "Iqwuhf8PQ0N1",
        "outputId": "4104c0b9-e0a1-4ddd-db98-d6ad7b7cd62b"
      },
      "source": [
        "np.random.rand(5)"
      ],
      "execution_count": 11,
      "outputs": [
        {
          "output_type": "execute_result",
          "data": {
            "text/plain": [
              "array([0.68110542, 0.3062619 , 0.94822567, 0.46148975, 0.64010927])"
            ]
          },
          "metadata": {},
          "execution_count": 11
        }
      ]
    },
    {
      "cell_type": "code",
      "metadata": {
        "colab": {
          "base_uri": "https://localhost:8080/"
        },
        "id": "4WKvKhjJVUzm",
        "outputId": "97f26122-a836-4aa5-91a1-e80f6657318d"
      },
      "source": [
        "np.random.rand(6, 3)"
      ],
      "execution_count": 12,
      "outputs": [
        {
          "output_type": "execute_result",
          "data": {
            "text/plain": [
              "array([[0.21483065, 0.00160636, 0.66084979],\n",
              "       [0.98514529, 0.44122297, 0.58633875],\n",
              "       [0.77686584, 0.84613429, 0.37903926],\n",
              "       [0.47133089, 0.61262825, 0.10586822],\n",
              "       [0.05118106, 0.73624832, 0.24697495],\n",
              "       [0.78362389, 0.66027764, 0.94144246]])"
            ]
          },
          "metadata": {},
          "execution_count": 12
        }
      ]
    },
    {
      "cell_type": "code",
      "metadata": {
        "colab": {
          "base_uri": "https://localhost:8080/"
        },
        "id": "NbQA_epWVmYi",
        "outputId": "e1a8dd7c-cf8d-4e44-e2e2-71c2e77950c9"
      },
      "source": [
        "np.random.randn(10)"
      ],
      "execution_count": 13,
      "outputs": [
        {
          "output_type": "execute_result",
          "data": {
            "text/plain": [
              "array([ 0.9471881 , -0.82614225,  1.31691856,  1.08955286,  1.98349359,\n",
              "        1.51967088,  0.91770897, -0.38520077,  0.58237569, -0.09533018])"
            ]
          },
          "metadata": {},
          "execution_count": 13
        }
      ]
    },
    {
      "cell_type": "code",
      "metadata": {
        "colab": {
          "base_uri": "https://localhost:8080/"
        },
        "id": "9Xp9fVGSVvrm",
        "outputId": "eb73f36c-1bf2-4797-9a03-ce2d84ec2d86"
      },
      "source": [
        "np.random.randint(0, 10, 5)"
      ],
      "execution_count": 14,
      "outputs": [
        {
          "output_type": "execute_result",
          "data": {
            "text/plain": [
              "array([6, 5, 2, 5, 4])"
            ]
          },
          "metadata": {},
          "execution_count": 14
        }
      ]
    },
    {
      "cell_type": "code",
      "metadata": {
        "colab": {
          "base_uri": "https://localhost:8080/"
        },
        "id": "co5o3RpDWHC1",
        "outputId": "a27df84a-96ec-435e-d752-63760eade691"
      },
      "source": [
        "np.random.randint(0, 10, (3,3))"
      ],
      "execution_count": 15,
      "outputs": [
        {
          "output_type": "execute_result",
          "data": {
            "text/plain": [
              "array([[2, 9, 8],\n",
              "       [8, 3, 5],\n",
              "       [1, 0, 3]])"
            ]
          },
          "metadata": {},
          "execution_count": 15
        }
      ]
    },
    {
      "cell_type": "markdown",
      "metadata": {
        "id": "Li7NbonvXZZs"
      },
      "source": [
        "# Restructuring NumPy Array"
      ]
    },
    {
      "cell_type": "code",
      "metadata": {
        "colab": {
          "base_uri": "https://localhost:8080/"
        },
        "id": "5I9CBQKUWTEg",
        "outputId": "ea9cb66d-85c6-4e05-e7bc-8319f250d313"
      },
      "source": [
        "myArr = np.arange(0, 50)\n",
        "print(myArr)\n",
        "\n",
        "print(\"\\n\")\n",
        "\n",
        "myArr = myArr.reshape(5, 10)\n",
        "print(myArr)"
      ],
      "execution_count": 16,
      "outputs": [
        {
          "output_type": "stream",
          "name": "stdout",
          "text": [
            "[ 0  1  2  3  4  5  6  7  8  9 10 11 12 13 14 15 16 17 18 19 20 21 22 23\n",
            " 24 25 26 27 28 29 30 31 32 33 34 35 36 37 38 39 40 41 42 43 44 45 46 47\n",
            " 48 49]\n",
            "\n",
            "\n",
            "[[ 0  1  2  3  4  5  6  7  8  9]\n",
            " [10 11 12 13 14 15 16 17 18 19]\n",
            " [20 21 22 23 24 25 26 27 28 29]\n",
            " [30 31 32 33 34 35 36 37 38 39]\n",
            " [40 41 42 43 44 45 46 47 48 49]]\n"
          ]
        }
      ]
    },
    {
      "cell_type": "markdown",
      "metadata": {
        "id": "LeSVBBWoeiRR"
      },
      "source": [
        "# NumPy Indexing and Selection"
      ]
    },
    {
      "cell_type": "code",
      "metadata": {
        "colab": {
          "base_uri": "https://localhost:8080/"
        },
        "id": "MpuzIARjdv-K",
        "outputId": "fee2c1af-0e1b-4b0e-d075-a659d275e2e4"
      },
      "source": [
        "myArr = np.arange(1, 20)\n",
        "print(myArr)\n",
        "print(\"\\n\")\n",
        "print(myArr[2])\n",
        "print(\"\\n\")\n",
        "print(myArr[2:7])\n",
        "print(\"\\n\")\n",
        "print(myArr[:7])\n",
        "print(\"\\n\")\n",
        "print(myArr[7:])"
      ],
      "execution_count": 17,
      "outputs": [
        {
          "output_type": "stream",
          "name": "stdout",
          "text": [
            "[ 1  2  3  4  5  6  7  8  9 10 11 12 13 14 15 16 17 18 19]\n",
            "\n",
            "\n",
            "3\n",
            "\n",
            "\n",
            "[3 4 5 6 7]\n",
            "\n",
            "\n",
            "[1 2 3 4 5 6 7]\n",
            "\n",
            "\n",
            "[ 8  9 10 11 12 13 14 15 16 17 18 19]\n"
          ]
        }
      ]
    },
    {
      "cell_type": "code",
      "metadata": {
        "colab": {
          "base_uri": "https://localhost:8080/"
        },
        "id": "MLNQmtiShAhs",
        "outputId": "e77a8bad-b5f7-4a24-8a63-8b7384c6b642"
      },
      "source": [
        "myArr2d = np.arange(0, 20)\n",
        "myArr2d = myArr2d.reshape(5,4)\n",
        "print(myArr2d)\n",
        "print(\"\\n\")\n",
        "print(myArr2d[2, 3])\n",
        "print(\"\\n\")\n",
        "print(myArr2d[1:4, 2:4])\n",
        "print(\"\\n\")\n",
        "print(myArr2d[3:, :2])"
      ],
      "execution_count": 18,
      "outputs": [
        {
          "output_type": "stream",
          "name": "stdout",
          "text": [
            "[[ 0  1  2  3]\n",
            " [ 4  5  6  7]\n",
            " [ 8  9 10 11]\n",
            " [12 13 14 15]\n",
            " [16 17 18 19]]\n",
            "\n",
            "\n",
            "11\n",
            "\n",
            "\n",
            "[[ 6  7]\n",
            " [10 11]\n",
            " [14 15]]\n",
            "\n",
            "\n",
            "[[12 13]\n",
            " [16 17]]\n"
          ]
        }
      ]
    },
    {
      "cell_type": "code",
      "metadata": {
        "colab": {
          "base_uri": "https://localhost:8080/"
        },
        "id": "KZnYpI9djPyT",
        "outputId": "cdfb2bae-87ef-49c6-dcb4-524d113d6e5e"
      },
      "source": [
        "myArr = np.random.randint(0, 1000, 20 )\n",
        "print(myArr)\n",
        "print(\"\\n\")\n",
        "print(myArr[myArr > 500])"
      ],
      "execution_count": 19,
      "outputs": [
        {
          "output_type": "stream",
          "name": "stdout",
          "text": [
            "[776 811 542 515  55 630 527 159 965 263  99 524 574 690 540 779 600 440\n",
            "  14 774]\n",
            "\n",
            "\n",
            "[776 811 542 515 630 527 965 524 574 690 540 779 600 774]\n"
          ]
        }
      ]
    },
    {
      "cell_type": "markdown",
      "metadata": {
        "id": "gWT7QEi9ky_o"
      },
      "source": [
        "# NumPy Operations"
      ]
    },
    {
      "cell_type": "code",
      "metadata": {
        "colab": {
          "base_uri": "https://localhost:8080/"
        },
        "id": "H-o3WZUBgmy5",
        "outputId": "98b04928-7235-4d1b-8347-ac283a05a50f"
      },
      "source": [
        "myArr = np.arange(0, 20)\n",
        "print(myArr)\n",
        "print(\"\\n\")\n",
        "print(myArr + 2)\n",
        "print(\"\\n\")\n",
        "print(myArr - 2)\n",
        "print(\"\\n\")\n",
        "print(myArr * 2)\n",
        "print(\"\\n\")\n",
        "print(myArr / 2)"
      ],
      "execution_count": 21,
      "outputs": [
        {
          "output_type": "stream",
          "name": "stdout",
          "text": [
            "[ 0  1  2  3  4  5  6  7  8  9 10 11 12 13 14 15 16 17 18 19]\n",
            "\n",
            "\n",
            "[ 2  3  4  5  6  7  8  9 10 11 12 13 14 15 16 17 18 19 20 21]\n",
            "\n",
            "\n",
            "[-2 -1  0  1  2  3  4  5  6  7  8  9 10 11 12 13 14 15 16 17]\n",
            "\n",
            "\n",
            "[ 0  2  4  6  8 10 12 14 16 18 20 22 24 26 28 30 32 34 36 38]\n",
            "\n",
            "\n",
            "[0.  0.5 1.  1.5 2.  2.5 3.  3.5 4.  4.5 5.  5.5 6.  6.5 7.  7.5 8.  8.5\n",
            " 9.  9.5]\n"
          ]
        }
      ]
    },
    {
      "cell_type": "code",
      "metadata": {
        "colab": {
          "base_uri": "https://localhost:8080/"
        },
        "id": "DIO-oiCDlZPJ",
        "outputId": "d429dfae-20b0-420a-942f-e2041214354c"
      },
      "source": [
        "print(np.sqrt(myArr))\n",
        "print(\"\\n\")\n",
        "print(np.sin(myArr))\n",
        "print(\"\\n\")\n",
        "print(np.cos(myArr))\n",
        "print(\"\\n\")\n",
        "print(np.log(myArr))"
      ],
      "execution_count": 22,
      "outputs": [
        {
          "output_type": "stream",
          "name": "stdout",
          "text": [
            "[0.         1.         1.41421356 1.73205081 2.         2.23606798\n",
            " 2.44948974 2.64575131 2.82842712 3.         3.16227766 3.31662479\n",
            " 3.46410162 3.60555128 3.74165739 3.87298335 4.         4.12310563\n",
            " 4.24264069 4.35889894]\n",
            "\n",
            "\n",
            "[ 0.          0.84147098  0.90929743  0.14112001 -0.7568025  -0.95892427\n",
            " -0.2794155   0.6569866   0.98935825  0.41211849 -0.54402111 -0.99999021\n",
            " -0.53657292  0.42016704  0.99060736  0.65028784 -0.28790332 -0.96139749\n",
            " -0.75098725  0.14987721]\n",
            "\n",
            "\n",
            "[ 1.          0.54030231 -0.41614684 -0.9899925  -0.65364362  0.28366219\n",
            "  0.96017029  0.75390225 -0.14550003 -0.91113026 -0.83907153  0.0044257\n",
            "  0.84385396  0.90744678  0.13673722 -0.75968791 -0.95765948 -0.27516334\n",
            "  0.66031671  0.98870462]\n",
            "\n",
            "\n",
            "[      -inf 0.         0.69314718 1.09861229 1.38629436 1.60943791\n",
            " 1.79175947 1.94591015 2.07944154 2.19722458 2.30258509 2.39789527\n",
            " 2.48490665 2.56494936 2.63905733 2.7080502  2.77258872 2.83321334\n",
            " 2.89037176 2.94443898]\n"
          ]
        },
        {
          "output_type": "stream",
          "name": "stderr",
          "text": [
            "/usr/local/lib/python3.7/dist-packages/ipykernel_launcher.py:7: RuntimeWarning: divide by zero encountered in log\n",
            "  import sys\n"
          ]
        }
      ]
    },
    {
      "cell_type": "markdown",
      "metadata": {
        "id": "0CHZlyfmo6gf"
      },
      "source": [
        "# NumPy Statistics"
      ]
    },
    {
      "cell_type": "code",
      "metadata": {
        "colab": {
          "base_uri": "https://localhost:8080/"
        },
        "id": "OTgDivQUnftJ",
        "outputId": "038086ee-04a7-4999-a28c-292f0cfa56a0"
      },
      "source": [
        "myArr = np.random.randint(0, 1000, 20 )\n",
        "print(myArr)\n",
        "print(\"\\n\")\n",
        "print(myArr.max())\n",
        "print(myArr.argmax())\n",
        "print(\"\\n\")\n",
        "print(myArr.min())\n",
        "print(myArr.argmin())"
      ],
      "execution_count": 23,
      "outputs": [
        {
          "output_type": "stream",
          "name": "stdout",
          "text": [
            "[595 708 869 918 246 393 176 887 293 494 612 162 855 617 342 435 134 307\n",
            " 235  36]\n",
            "\n",
            "\n",
            "918\n",
            "3\n",
            "\n",
            "\n",
            "36\n",
            "19\n"
          ]
        }
      ]
    },
    {
      "cell_type": "code",
      "metadata": {
        "colab": {
          "base_uri": "https://localhost:8080/"
        },
        "id": "N5b2L1C6oA4o",
        "outputId": "631897aa-a686-481a-f638-cd42d773f458"
      },
      "source": [
        "print(myArr.sum())\n",
        "print(\"\\n\")\n",
        "print(myArr.mean())\n",
        "print(\"\\n\")\n",
        "print(myArr.var())\n",
        "print(\"\\n\")\n",
        "print(myArr.std())"
      ],
      "execution_count": 24,
      "outputs": [
        {
          "output_type": "stream",
          "name": "stdout",
          "text": [
            "9314\n",
            "\n",
            "\n",
            "465.7\n",
            "\n",
            "\n",
            "73282.81\n",
            "\n",
            "\n",
            "270.7079791952945\n"
          ]
        }
      ]
    },
    {
      "cell_type": "code",
      "metadata": {
        "colab": {
          "base_uri": "https://localhost:8080/"
        },
        "id": "56-YijXLoyQe",
        "outputId": "26a83c1a-ae55-4d93-e54d-9860537504de"
      },
      "source": [
        "myArr2d = np.arange(0, 20)\n",
        "myArr2d = myArr2d.reshape(5,4)\n",
        "print(myArr2d)\n",
        "print(\"\\n\")\n",
        "print(myArr2d.sum(axis=0))\n",
        "print(myArr2d.sum(axis=1))\n",
        "print(\"\\n\")\n",
        "print(myArr2d.mean(axis=0))\n",
        "print(myArr2d.mean(axis=1))\n",
        "print(\"\\n\")\n",
        "print(myArr2d.var(axis=0))\n",
        "print(myArr2d.var(axis=1))\n",
        "print(\"\\n\")\n",
        "print(myArr2d.std(axis=0))\n",
        "print(myArr2d.std(axis=1))"
      ],
      "execution_count": 25,
      "outputs": [
        {
          "output_type": "stream",
          "name": "stdout",
          "text": [
            "[[ 0  1  2  3]\n",
            " [ 4  5  6  7]\n",
            " [ 8  9 10 11]\n",
            " [12 13 14 15]\n",
            " [16 17 18 19]]\n",
            "\n",
            "\n",
            "[40 45 50 55]\n",
            "[ 6 22 38 54 70]\n",
            "\n",
            "\n",
            "[ 8.  9. 10. 11.]\n",
            "[ 1.5  5.5  9.5 13.5 17.5]\n",
            "\n",
            "\n",
            "[32. 32. 32. 32.]\n",
            "[1.25 1.25 1.25 1.25 1.25]\n",
            "\n",
            "\n",
            "[5.65685425 5.65685425 5.65685425 5.65685425]\n",
            "[1.11803399 1.11803399 1.11803399 1.11803399 1.11803399]\n"
          ]
        }
      ]
    }
  ]
}